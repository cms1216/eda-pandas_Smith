{
 "cells": [
  {
   "cell_type": "markdown",
   "metadata": {},
   "source": [
    "# Elements of Computing II \n",
    "\n",
    "Student Name: **Connor Smith**\n",
    "<br>\n",
    "Net ID: **csmith77**\n",
    "<br>\n",
    "Title: **Exploratory Data Analysis in Pandas**"
   ]
  },
  {
   "cell_type": "markdown",
   "metadata": {},
   "source": [
    "**Q1: Using the titanic dataset (or another dataset), write code that calculates at least 3 unique summary statistics. Include code + comments for each.**"
   ]
  },
  {
   "cell_type": "code",
   "execution_count": 4,
   "metadata": {},
   "outputs": [
    {
     "data": {
      "text/plain": [
       "80.0"
      ]
     },
     "execution_count": 4,
     "metadata": {},
     "output_type": "execute_result"
    }
   ],
   "source": [
    "# import pandas\n",
    "import pandas as pd\n",
    "\n",
    "# load titanic data from url\n",
    "titanic = pd.read_csv(\"https://raw.githubusercontent.com/kwaldenphd/pandas-intro/main/data/titanic.csv\")\n",
    "\n",
    "# show first 5 rows of newly-loaded dataframe\n",
    "titanic.head(5)\n",
    "\n",
    "# calculate mean\n",
    "titanic[\"Age\"].max()"
   ]
  },
  {
   "cell_type": "code",
   "execution_count": 9,
   "metadata": {},
   "outputs": [
    {
     "data": {
      "text/html": [
       "<div>\n",
       "<style scoped>\n",
       "    .dataframe tbody tr th:only-of-type {\n",
       "        vertical-align: middle;\n",
       "    }\n",
       "\n",
       "    .dataframe tbody tr th {\n",
       "        vertical-align: top;\n",
       "    }\n",
       "\n",
       "    .dataframe thead th {\n",
       "        text-align: right;\n",
       "    }\n",
       "</style>\n",
       "<table border=\"1\" class=\"dataframe\">\n",
       "  <thead>\n",
       "    <tr style=\"text-align: right;\">\n",
       "      <th></th>\n",
       "      <th>Age</th>\n",
       "      <th>Fare</th>\n",
       "    </tr>\n",
       "  </thead>\n",
       "  <tbody>\n",
       "    <tr>\n",
       "      <th>0</th>\n",
       "      <td>24.0</td>\n",
       "      <td>8.05</td>\n",
       "    </tr>\n",
       "  </tbody>\n",
       "</table>\n",
       "</div>"
      ],
      "text/plain": [
       "    Age  Fare\n",
       "0  24.0  8.05"
      ]
     },
     "execution_count": 9,
     "metadata": {},
     "output_type": "execute_result"
    }
   ],
   "source": [
    "# import pandas\n",
    "import pandas as pd\n",
    "\n",
    "# load titanic data from url\n",
    "titanic = pd.read_csv(\"https://raw.githubusercontent.com/kwaldenphd/pandas-intro/main/data/titanic.csv\")\n",
    "\n",
    "# show first 5 rows of newly-loaded dataframe\n",
    "titanic.head(5)\n",
    "\n",
    "# calculate mean\n",
    "titanic[[\"Age\", \"Fare\"]].mode()"
   ]
  },
  {
   "cell_type": "code",
   "execution_count": 11,
   "metadata": {},
   "outputs": [
    {
     "data": {
      "text/html": [
       "<div>\n",
       "<style scoped>\n",
       "    .dataframe tbody tr th:only-of-type {\n",
       "        vertical-align: middle;\n",
       "    }\n",
       "\n",
       "    .dataframe tbody tr th {\n",
       "        vertical-align: top;\n",
       "    }\n",
       "\n",
       "    .dataframe thead th {\n",
       "        text-align: right;\n",
       "    }\n",
       "</style>\n",
       "<table border=\"1\" class=\"dataframe\">\n",
       "  <thead>\n",
       "    <tr style=\"text-align: right;\">\n",
       "      <th></th>\n",
       "      <th>Age</th>\n",
       "      <th>Fare</th>\n",
       "    </tr>\n",
       "  </thead>\n",
       "  <tbody>\n",
       "    <tr>\n",
       "      <th>max</th>\n",
       "      <td>80.000000</td>\n",
       "      <td>512.329200</td>\n",
       "    </tr>\n",
       "    <tr>\n",
       "      <th>mean</th>\n",
       "      <td>NaN</td>\n",
       "      <td>32.204208</td>\n",
       "    </tr>\n",
       "    <tr>\n",
       "      <th>median</th>\n",
       "      <td>28.000000</td>\n",
       "      <td>14.454200</td>\n",
       "    </tr>\n",
       "    <tr>\n",
       "      <th>min</th>\n",
       "      <td>0.420000</td>\n",
       "      <td>0.000000</td>\n",
       "    </tr>\n",
       "    <tr>\n",
       "      <th>skew</th>\n",
       "      <td>0.389108</td>\n",
       "      <td>NaN</td>\n",
       "    </tr>\n",
       "  </tbody>\n",
       "</table>\n",
       "</div>"
      ],
      "text/plain": [
       "              Age        Fare\n",
       "max     80.000000  512.329200\n",
       "mean          NaN   32.204208\n",
       "median  28.000000   14.454200\n",
       "min      0.420000    0.000000\n",
       "skew     0.389108         NaN"
      ]
     },
     "execution_count": 11,
     "metadata": {},
     "output_type": "execute_result"
    }
   ],
   "source": [
    "# import pandas\n",
    "import pandas as pd\n",
    "\n",
    "# load titanic data from url\n",
    "titanic = pd.read_csv(\"https://raw.githubusercontent.com/kwaldenphd/pandas-intro/main/data/titanic.csv\")\n",
    "\n",
    "# show first 5 rows of newly-loaded dataframe\n",
    "titanic.head(5)\n",
    "\n",
    "# calculate mean\n",
    "titanic.agg(\n",
    "  {\n",
    "    \"Age\": [\"min\", \"max\", \"median\", \"skew\"],\n",
    "    \"Fare\": [\"min\", \"max\", \"median\", \"mean\"],\n",
    "   }\n",
    " )"
   ]
  },
  {
   "cell_type": "markdown",
   "metadata": {},
   "source": [
    "**Q2: Describe element-wise calculation in your own words.**"
   ]
  },
  {
   "cell_type": "markdown",
   "metadata": {},
   "source": [
    "<blockquote>Answer Q2: Element-wise calculations are equasions that are run on each row of data using the corresponding data points from that row in the desired variable columns.</blockquote>"
   ]
  },
  {
   "cell_type": "markdown",
   "metadata": {},
   "source": [
    "**Q3: Using the air quality data or another dataset, write code that generates a new column based on an existing column(s). Include code + comments.**"
   ]
  },
  {
   "cell_type": "code",
   "execution_count": 13,
   "metadata": {},
   "outputs": [
    {
     "data": {
      "text/html": [
       "<div>\n",
       "<style scoped>\n",
       "    .dataframe tbody tr th:only-of-type {\n",
       "        vertical-align: middle;\n",
       "    }\n",
       "\n",
       "    .dataframe tbody tr th {\n",
       "        vertical-align: top;\n",
       "    }\n",
       "\n",
       "    .dataframe thead th {\n",
       "        text-align: right;\n",
       "    }\n",
       "</style>\n",
       "<table border=\"1\" class=\"dataframe\">\n",
       "  <thead>\n",
       "    <tr style=\"text-align: right;\">\n",
       "      <th></th>\n",
       "      <th>station_antwerp</th>\n",
       "      <th>station_paris</th>\n",
       "      <th>station_london</th>\n",
       "      <th>london_mg_per_cubic</th>\n",
       "    </tr>\n",
       "    <tr>\n",
       "      <th>datetime</th>\n",
       "      <th></th>\n",
       "      <th></th>\n",
       "      <th></th>\n",
       "      <th></th>\n",
       "    </tr>\n",
       "  </thead>\n",
       "  <tbody>\n",
       "    <tr>\n",
       "      <th>2019-05-07 02:00:00</th>\n",
       "      <td>NaN</td>\n",
       "      <td>NaN</td>\n",
       "      <td>23.0</td>\n",
       "      <td>43.286</td>\n",
       "    </tr>\n",
       "    <tr>\n",
       "      <th>2019-05-07 03:00:00</th>\n",
       "      <td>50.5</td>\n",
       "      <td>25.0</td>\n",
       "      <td>19.0</td>\n",
       "      <td>35.758</td>\n",
       "    </tr>\n",
       "    <tr>\n",
       "      <th>2019-05-07 04:00:00</th>\n",
       "      <td>45.0</td>\n",
       "      <td>27.7</td>\n",
       "      <td>19.0</td>\n",
       "      <td>35.758</td>\n",
       "    </tr>\n",
       "    <tr>\n",
       "      <th>2019-05-07 05:00:00</th>\n",
       "      <td>NaN</td>\n",
       "      <td>50.4</td>\n",
       "      <td>16.0</td>\n",
       "      <td>30.112</td>\n",
       "    </tr>\n",
       "    <tr>\n",
       "      <th>2019-05-07 06:00:00</th>\n",
       "      <td>NaN</td>\n",
       "      <td>61.9</td>\n",
       "      <td>NaN</td>\n",
       "      <td>NaN</td>\n",
       "    </tr>\n",
       "  </tbody>\n",
       "</table>\n",
       "</div>"
      ],
      "text/plain": [
       "                     station_antwerp  station_paris  station_london  \\\n",
       "datetime                                                              \n",
       "2019-05-07 02:00:00              NaN            NaN            23.0   \n",
       "2019-05-07 03:00:00             50.5           25.0            19.0   \n",
       "2019-05-07 04:00:00             45.0           27.7            19.0   \n",
       "2019-05-07 05:00:00              NaN           50.4            16.0   \n",
       "2019-05-07 06:00:00              NaN           61.9             NaN   \n",
       "\n",
       "                     london_mg_per_cubic  \n",
       "datetime                                  \n",
       "2019-05-07 02:00:00               43.286  \n",
       "2019-05-07 03:00:00               35.758  \n",
       "2019-05-07 04:00:00               35.758  \n",
       "2019-05-07 05:00:00               30.112  \n",
       "2019-05-07 06:00:00                  NaN  "
      ]
     },
     "execution_count": 13,
     "metadata": {},
     "output_type": "execute_result"
    }
   ],
   "source": [
    "# load air quality data from url\n",
    "air_quality = pd.read_csv(\"https://raw.githubusercontent.com/kwaldenphd/eda-pandas/main/data/air_quality_no2.csv\", index_col=0, parse_dates=True)\n",
    "\n",
    "air_quality[\"london_mg_per_cubic\"] = air_quality[\"station_london\"] * 1.882\n",
    "\n",
    "air_quality.head()"
   ]
  },
  {
   "cell_type": "markdown",
   "metadata": {},
   "source": [
    "**Q4: In your own words, provide a brief description/explanation for each function: .pivot(), .melt(), .pivot_table(), .stack(), and .unstack().**"
   ]
  },
  {
   "cell_type": "markdown",
   "metadata": {},
   "source": [
    "<blockquote>Answer Q4: .pivot() = reorganizes the data into a new graph that has differne x and y values, .melt() = takes values associated with variables and puts them all other under the same columns of variable and value, .pivot_table() = creates a new table using the information that is gathered from the pivot funciton, .stack() = multindexes the data one step further than it previously was, .unstack() = take shte multindexing back and step from where it is</blockquote>"
   ]
  },
  {
   "cell_type": "markdown",
   "metadata": {},
   "source": [
    "**Q5: Write sample code for at least two of these functions (pivot, melt, pivot_table, stack, unstack). Include code + comments.**"
   ]
  },
  {
   "cell_type": "code",
   "execution_count": 19,
   "metadata": {},
   "outputs": [
    {
     "data": {
      "text/html": [
       "<div>\n",
       "<style scoped>\n",
       "    .dataframe tbody tr th:only-of-type {\n",
       "        vertical-align: middle;\n",
       "    }\n",
       "\n",
       "    .dataframe tbody tr th {\n",
       "        vertical-align: top;\n",
       "    }\n",
       "\n",
       "    .dataframe thead th {\n",
       "        text-align: right;\n",
       "    }\n",
       "</style>\n",
       "<table border=\"1\" class=\"dataframe\">\n",
       "  <thead>\n",
       "    <tr style=\"text-align: right;\">\n",
       "      <th>location</th>\n",
       "      <th>BETR801</th>\n",
       "      <th>FR04014</th>\n",
       "      <th>London Westminster</th>\n",
       "    </tr>\n",
       "  </thead>\n",
       "  <tbody>\n",
       "    <tr>\n",
       "      <th>1825</th>\n",
       "      <td>NaN</td>\n",
       "      <td>20.0</td>\n",
       "      <td>NaN</td>\n",
       "    </tr>\n",
       "    <tr>\n",
       "      <th>1826</th>\n",
       "      <td>NaN</td>\n",
       "      <td>21.8</td>\n",
       "      <td>NaN</td>\n",
       "    </tr>\n",
       "    <tr>\n",
       "      <th>3501</th>\n",
       "      <td>41.0</td>\n",
       "      <td>NaN</td>\n",
       "      <td>NaN</td>\n",
       "    </tr>\n",
       "    <tr>\n",
       "      <th>3502</th>\n",
       "      <td>45.0</td>\n",
       "      <td>NaN</td>\n",
       "      <td>NaN</td>\n",
       "    </tr>\n",
       "    <tr>\n",
       "      <th>3664</th>\n",
       "      <td>NaN</td>\n",
       "      <td>NaN</td>\n",
       "      <td>11.0</td>\n",
       "    </tr>\n",
       "    <tr>\n",
       "      <th>3665</th>\n",
       "      <td>NaN</td>\n",
       "      <td>NaN</td>\n",
       "      <td>11.0</td>\n",
       "    </tr>\n",
       "  </tbody>\n",
       "</table>\n",
       "</div>"
      ],
      "text/plain": [
       "location  BETR801  FR04014  London Westminster\n",
       "1825          NaN     20.0                 NaN\n",
       "1826          NaN     21.8                 NaN\n",
       "3501         41.0      NaN                 NaN\n",
       "3502         45.0      NaN                 NaN\n",
       "3664          NaN      NaN                11.0\n",
       "3665          NaN      NaN                11.0"
      ]
     },
     "execution_count": 19,
     "metadata": {},
     "output_type": "execute_result"
    }
   ],
   "source": [
    "# import pandas\n",
    "import pandas as pd\n",
    "\n",
    "# load data\n",
    "air_quality = pd.read_csv(\"https://raw.githubusercontent.com/kwaldenphd/eda-pandas/main/data/air_quality_long.csv\")\n",
    "\n",
    "# create subset with only no2 data\n",
    "no2 = air_quality[air_quality[\"parameter\"] == \"no2\"]\n",
    "\n",
    "# group by station locations\n",
    "no2_subset = no2.sort_index().groupby([\"location\"]).head(2)\n",
    "\n",
    "# verify the output for our no2_subset dataframe\n",
    "no2_subset\n",
    "\n",
    "no2_subset.pivot(columns=\"location\", values=\"value\")"
   ]
  },
  {
   "cell_type": "code",
   "execution_count": 20,
   "metadata": {},
   "outputs": [
    {
     "data": {
      "text/html": [
       "<div>\n",
       "<style scoped>\n",
       "    .dataframe tbody tr th:only-of-type {\n",
       "        vertical-align: middle;\n",
       "    }\n",
       "\n",
       "    .dataframe tbody tr th {\n",
       "        vertical-align: top;\n",
       "    }\n",
       "\n",
       "    .dataframe thead th {\n",
       "        text-align: right;\n",
       "    }\n",
       "</style>\n",
       "<table border=\"1\" class=\"dataframe\">\n",
       "  <thead>\n",
       "    <tr style=\"text-align: right;\">\n",
       "      <th>location</th>\n",
       "      <th>index</th>\n",
       "      <th>BETR801</th>\n",
       "      <th>FR04014</th>\n",
       "      <th>London Westminster</th>\n",
       "    </tr>\n",
       "  </thead>\n",
       "  <tbody>\n",
       "    <tr>\n",
       "      <th>0</th>\n",
       "      <td>1825</td>\n",
       "      <td>NaN</td>\n",
       "      <td>20.0</td>\n",
       "      <td>NaN</td>\n",
       "    </tr>\n",
       "    <tr>\n",
       "      <th>1</th>\n",
       "      <td>1826</td>\n",
       "      <td>NaN</td>\n",
       "      <td>21.8</td>\n",
       "      <td>NaN</td>\n",
       "    </tr>\n",
       "    <tr>\n",
       "      <th>2</th>\n",
       "      <td>1827</td>\n",
       "      <td>NaN</td>\n",
       "      <td>26.5</td>\n",
       "      <td>NaN</td>\n",
       "    </tr>\n",
       "    <tr>\n",
       "      <th>3</th>\n",
       "      <td>1828</td>\n",
       "      <td>NaN</td>\n",
       "      <td>24.9</td>\n",
       "      <td>NaN</td>\n",
       "    </tr>\n",
       "    <tr>\n",
       "      <th>4</th>\n",
       "      <td>1829</td>\n",
       "      <td>NaN</td>\n",
       "      <td>21.4</td>\n",
       "      <td>NaN</td>\n",
       "    </tr>\n",
       "  </tbody>\n",
       "</table>\n",
       "</div>"
      ],
      "text/plain": [
       "location  index  BETR801  FR04014  London Westminster\n",
       "0          1825      NaN     20.0                 NaN\n",
       "1          1826      NaN     21.8                 NaN\n",
       "2          1827      NaN     26.5                 NaN\n",
       "3          1828      NaN     24.9                 NaN\n",
       "4          1829      NaN     21.4                 NaN"
      ]
     },
     "execution_count": 20,
     "metadata": {},
     "output_type": "execute_result"
    }
   ],
   "source": [
    "# import pandas\n",
    "import pandas as pd\n",
    "\n",
    "# load data\n",
    "air_quality = pd.read_csv(\"https://raw.githubusercontent.com/kwaldenphd/eda-pandas/main/data/air_quality_long.csv\")\n",
    "\n",
    "# create subset with only no2 data\n",
    "no2 = air_quality[air_quality[\"parameter\"] == \"no2\"]\n",
    "\n",
    "# group by station locations\n",
    "no2_subset = no2.sort_index().groupby([\"location\"]).head(2)\n",
    "\n",
    "# verify the output for our no2_subset dataframe\n",
    "no2_subset\n",
    "\n",
    "# create wide data format\n",
    "no2_pivoted = no2.pivot(columns=\"location\", values=\"value\").reset_index()\n",
    "\n",
    "# verify wide data\n",
    "no2_pivoted.head()"
   ]
  },
  {
   "cell_type": "markdown",
   "metadata": {},
   "source": [
    "**Q6: Describe how you are thinking about needing to use these functions in relation to data you're interested in working with as part of the final project.**"
   ]
  },
  {
   "cell_type": "markdown",
   "metadata": {},
   "source": [
    "<blockquote>Answer Q6: I can use these functions that we discussed to help me understand where data falls in the order and how I can categorize different players and teams using the stack and unstack functions.</blockquote>"
   ]
  },
  {
   "cell_type": "markdown",
   "metadata": {},
   "source": [
    "**Q7: In your own words, provide a description for .concat() and .merge(). What do these functions do? How are they different?**"
   ]
  },
  {
   "cell_type": "markdown",
   "metadata": {},
   "source": [
    "<blockquote>Answer Q7: .concat() takes two tables and adds them together into one table and .merge() connects tables together using a key identifier or primary key. These are different as the .merge() will sort the data based on its key for the new table while .concat will just add the new data to the bottom of the original table.</blockquote>"
   ]
  },
  {
   "cell_type": "markdown",
   "metadata": {},
   "source": [
    "**Q8: Write sample code for both functions (concat and merge). Include code + comments.**"
   ]
  },
  {
   "cell_type": "code",
   "execution_count": 23,
   "metadata": {
    "scrolled": true
   },
   "outputs": [
    {
     "data": {
      "text/html": [
       "<div>\n",
       "<style scoped>\n",
       "    .dataframe tbody tr th:only-of-type {\n",
       "        vertical-align: middle;\n",
       "    }\n",
       "\n",
       "    .dataframe tbody tr th {\n",
       "        vertical-align: top;\n",
       "    }\n",
       "\n",
       "    .dataframe thead th {\n",
       "        text-align: right;\n",
       "    }\n",
       "</style>\n",
       "<table border=\"1\" class=\"dataframe\">\n",
       "  <thead>\n",
       "    <tr style=\"text-align: right;\">\n",
       "      <th></th>\n",
       "      <th>date.utc</th>\n",
       "      <th>location</th>\n",
       "      <th>parameter</th>\n",
       "      <th>value</th>\n",
       "    </tr>\n",
       "  </thead>\n",
       "  <tbody>\n",
       "    <tr>\n",
       "      <th>0</th>\n",
       "      <td>2019-06-18 06:00:00+00:00</td>\n",
       "      <td>BETR801</td>\n",
       "      <td>pm25</td>\n",
       "      <td>18.0</td>\n",
       "    </tr>\n",
       "    <tr>\n",
       "      <th>1</th>\n",
       "      <td>2019-06-17 08:00:00+00:00</td>\n",
       "      <td>BETR801</td>\n",
       "      <td>pm25</td>\n",
       "      <td>6.5</td>\n",
       "    </tr>\n",
       "    <tr>\n",
       "      <th>2</th>\n",
       "      <td>2019-06-17 07:00:00+00:00</td>\n",
       "      <td>BETR801</td>\n",
       "      <td>pm25</td>\n",
       "      <td>18.5</td>\n",
       "    </tr>\n",
       "    <tr>\n",
       "      <th>3</th>\n",
       "      <td>2019-06-17 06:00:00+00:00</td>\n",
       "      <td>BETR801</td>\n",
       "      <td>pm25</td>\n",
       "      <td>16.0</td>\n",
       "    </tr>\n",
       "    <tr>\n",
       "      <th>4</th>\n",
       "      <td>2019-06-17 05:00:00+00:00</td>\n",
       "      <td>BETR801</td>\n",
       "      <td>pm25</td>\n",
       "      <td>7.5</td>\n",
       "    </tr>\n",
       "  </tbody>\n",
       "</table>\n",
       "</div>"
      ],
      "text/plain": [
       "                    date.utc location parameter  value\n",
       "0  2019-06-18 06:00:00+00:00  BETR801      pm25   18.0\n",
       "1  2019-06-17 08:00:00+00:00  BETR801      pm25    6.5\n",
       "2  2019-06-17 07:00:00+00:00  BETR801      pm25   18.5\n",
       "3  2019-06-17 06:00:00+00:00  BETR801      pm25   16.0\n",
       "4  2019-06-17 05:00:00+00:00  BETR801      pm25    7.5"
      ]
     },
     "execution_count": 23,
     "metadata": {},
     "output_type": "execute_result"
    }
   ],
   "source": [
    "# import pandas\n",
    "import pandas as pd\n",
    "\n",
    "# load no2 observation data\n",
    "air_quality_no2 = pd.read_csv(\"https://raw.githubusercontent.com/kwaldenphd/eda-pandas/main/data/air_quality_long.csv\", parse_dates=True)\n",
    "\n",
    "# set column names\n",
    "air_quality_no2 = air_quality_no2[[\"date.utc\", \"location\", \"parameter\", \"value\"]]\n",
    "\n",
    "# make sure columns are renamed and no2 data is loaded\n",
    "air_quality_no2.head()\n",
    "\n",
    "# load pm25 data\n",
    "air_quality_pm25 = pd.read_csv(\"https://raw.githubusercontent.com/kwaldenphd/eda-pandas/main/data/air_quality_pm25_long.csv\", parse_dates=True)\n",
    "\n",
    "# rename columns\n",
    "air_quality_pm25 = air_quality_pm25[[\"date.utc\", \"location\", \"parameter\", \"value\"]]\n",
    "\n",
    "# make vsure columns are renamed and pm25 data is loaded\n",
    "air_quality_pm25.head()\n",
    "\n",
    "# load coordinates data\n",
    "stations_coord = pd.read_csv(\"https://raw.githubusercontent.com/kwaldenphd/eda-pandas/main/data/air_quality_stations.csv\")\n",
    "\n",
    "# make sure coordinate data is loaded\n",
    "stations_coord.head()\n",
    "\n",
    "# load parameter data\n",
    "air_quality_parameters = pd.read_csv(\"https://raw.githubusercontent.com/kwaldenphd/eda-pandas/main/data/air_quality_parameters.csv\")\n",
    "\n",
    "air_quality = pd.concat([air_quality_pm25, air_quality_no2], axis=0)\n",
    "\n",
    "air_quality.head()"
   ]
  },
  {
   "cell_type": "code",
   "execution_count": 24,
   "metadata": {},
   "outputs": [
    {
     "data": {
      "text/html": [
       "<div>\n",
       "<style scoped>\n",
       "    .dataframe tbody tr th:only-of-type {\n",
       "        vertical-align: middle;\n",
       "    }\n",
       "\n",
       "    .dataframe tbody tr th {\n",
       "        vertical-align: top;\n",
       "    }\n",
       "\n",
       "    .dataframe thead th {\n",
       "        text-align: right;\n",
       "    }\n",
       "</style>\n",
       "<table border=\"1\" class=\"dataframe\">\n",
       "  <thead>\n",
       "    <tr style=\"text-align: right;\">\n",
       "      <th></th>\n",
       "      <th>date.utc</th>\n",
       "      <th>location</th>\n",
       "      <th>parameter</th>\n",
       "      <th>value</th>\n",
       "      <th>id</th>\n",
       "      <th>description</th>\n",
       "      <th>name</th>\n",
       "    </tr>\n",
       "  </thead>\n",
       "  <tbody>\n",
       "    <tr>\n",
       "      <th>0</th>\n",
       "      <td>2019-06-18 06:00:00+00:00</td>\n",
       "      <td>BETR801</td>\n",
       "      <td>pm25</td>\n",
       "      <td>18.0</td>\n",
       "      <td>NaN</td>\n",
       "      <td>NaN</td>\n",
       "      <td>NaN</td>\n",
       "    </tr>\n",
       "    <tr>\n",
       "      <th>1</th>\n",
       "      <td>2019-06-17 08:00:00+00:00</td>\n",
       "      <td>BETR801</td>\n",
       "      <td>pm25</td>\n",
       "      <td>6.5</td>\n",
       "      <td>NaN</td>\n",
       "      <td>NaN</td>\n",
       "      <td>NaN</td>\n",
       "    </tr>\n",
       "    <tr>\n",
       "      <th>2</th>\n",
       "      <td>2019-06-17 07:00:00+00:00</td>\n",
       "      <td>BETR801</td>\n",
       "      <td>pm25</td>\n",
       "      <td>18.5</td>\n",
       "      <td>NaN</td>\n",
       "      <td>NaN</td>\n",
       "      <td>NaN</td>\n",
       "    </tr>\n",
       "    <tr>\n",
       "      <th>3</th>\n",
       "      <td>2019-06-17 06:00:00+00:00</td>\n",
       "      <td>BETR801</td>\n",
       "      <td>pm25</td>\n",
       "      <td>16.0</td>\n",
       "      <td>NaN</td>\n",
       "      <td>NaN</td>\n",
       "      <td>NaN</td>\n",
       "    </tr>\n",
       "    <tr>\n",
       "      <th>4</th>\n",
       "      <td>2019-06-17 05:00:00+00:00</td>\n",
       "      <td>BETR801</td>\n",
       "      <td>pm25</td>\n",
       "      <td>7.5</td>\n",
       "      <td>NaN</td>\n",
       "      <td>NaN</td>\n",
       "      <td>NaN</td>\n",
       "    </tr>\n",
       "  </tbody>\n",
       "</table>\n",
       "</div>"
      ],
      "text/plain": [
       "                    date.utc location parameter  value   id  description  name\n",
       "0  2019-06-18 06:00:00+00:00  BETR801      pm25   18.0  NaN          NaN   NaN\n",
       "1  2019-06-17 08:00:00+00:00  BETR801      pm25    6.5  NaN          NaN   NaN\n",
       "2  2019-06-17 07:00:00+00:00  BETR801      pm25   18.5  NaN          NaN   NaN\n",
       "3  2019-06-17 06:00:00+00:00  BETR801      pm25   16.0  NaN          NaN   NaN\n",
       "4  2019-06-17 05:00:00+00:00  BETR801      pm25    7.5  NaN          NaN   NaN"
      ]
     },
     "execution_count": 24,
     "metadata": {},
     "output_type": "execute_result"
    }
   ],
   "source": [
    "# import pandas\n",
    "import pandas as pd\n",
    "\n",
    "# load no2 observation data\n",
    "air_quality_no2 = pd.read_csv(\"https://raw.githubusercontent.com/kwaldenphd/eda-pandas/main/data/air_quality_long.csv\", parse_dates=True)\n",
    "\n",
    "# set column names\n",
    "air_quality_no2 = air_quality_no2[[\"date.utc\", \"location\", \"parameter\", \"value\"]]\n",
    "\n",
    "# make sure columns are renamed and no2 data is loaded\n",
    "air_quality_no2.head()\n",
    "\n",
    "# load pm25 data\n",
    "air_quality_pm25 = pd.read_csv(\"https://raw.githubusercontent.com/kwaldenphd/eda-pandas/main/data/air_quality_pm25_long.csv\", parse_dates=True)\n",
    "\n",
    "# rename columns\n",
    "air_quality_pm25 = air_quality_pm25[[\"date.utc\", \"location\", \"parameter\", \"value\"]]\n",
    "\n",
    "# make sure columns are renamed and pm25 data is loaded\n",
    "air_quality_pm25.head()\n",
    "\n",
    "# load coordinates data\n",
    "stations_coord = pd.read_csv(\"https://raw.githubusercontent.com/kwaldenphd/eda-pandas/main/data/air_quality_stations.csv\")\n",
    "\n",
    "# make sure coordinate data is loaded\n",
    "stations_coord.head()\n",
    "\n",
    "# load parameter data\n",
    "air_quality_parameters = pd.read_csv(\"https://raw.githubusercontent.com/kwaldenphd/eda-pandas/main/data/air_quality_parameters.csv\")\n",
    "\n",
    "air_quality = pd.merge(air_quality, air_quality_parameters, how='left', left_on='parameter', right_on='id')\n",
    "\n",
    "air_quality.head()"
   ]
  },
  {
   "cell_type": "markdown",
   "metadata": {},
   "source": [
    "**Q9: Describe how you are thinking about needing to use these functions for the data you plan to work with in the final project.**"
   ]
  },
  {
   "cell_type": "markdown",
   "metadata": {},
   "source": [
    "<blockquote>Answer Q9: As it pertains to my project, being able to merge and concatinate the player dat to the team data could allow me to easily understand how teams are formed and parse data from a team with a certain player on it.</blockquote>"
   ]
  }
 ],
 "metadata": {
  "kernelspec": {
   "display_name": "Python 3",
   "language": "python",
   "name": "python3"
  },
  "language_info": {
   "codemirror_mode": {
    "name": "ipython",
    "version": 3
   },
   "file_extension": ".py",
   "mimetype": "text/x-python",
   "name": "python",
   "nbconvert_exporter": "python",
   "pygments_lexer": "ipython3",
   "version": "3.8.5"
  }
 },
 "nbformat": 4,
 "nbformat_minor": 4
}
